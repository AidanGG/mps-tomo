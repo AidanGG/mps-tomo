{
 "cells": [
  {
   "cell_type": "markdown",
   "metadata": {},
   "source": [
    "# `mps_tomo`"
   ]
  },
  {
   "cell_type": "markdown",
   "metadata": {},
   "source": [
    "Welcome to `mps_tomo`, our entry for Qiskit Camp Asia 2019. In this example, we'll show how to perform quantum tomography using matrix product states according to [Cramer, M. *et al*. Nat Commun **1**, 149 (2010)](https://doi.org/10.1038/ncomms1147)."
   ]
  },
  {
   "cell_type": "markdown",
   "metadata": {},
   "source": [
    "Let's set some parameters:"
   ]
  },
  {
   "cell_type": "code",
   "execution_count": 1,
   "metadata": {},
   "outputs": [],
   "source": [
    "import numpy as np\n",
    "# from mps_tomo.utils import fidelity, pauli_group\n",
    "\n",
    "NUM_QUBITS = 5       #\n",
    "K = 2                # Size of the sliding window. Related to the entanglement in the state.\n",
    "DEPOLARISATION = 0.1 # Amount of depolarisation to add to the state."
   ]
  },
  {
   "cell_type": "markdown",
   "metadata": {},
   "source": [
    "This approach takes `(N - K + 1) 2^N` measurements as opposed to `3^N` in "
   ]
  },
  {
   "cell_type": "markdown",
   "metadata": {},
   "source": [
    "Now we'll create a depolarised W-state:"
   ]
  },
  {
   "cell_type": "code",
   "execution_count": 2,
   "metadata": {},
   "outputs": [
    {
     "name": "stdout",
     "output_type": "stream",
     "text": [
      "purity = 0.8159374999999996\n"
     ]
    }
   ],
   "source": [
    "dim = 2 ** NUM_QUBITS\n",
    "state = np.zeros(dim, dtype=np.complex128)\n",
    "for i in range(NUM_QUBITS):\n",
    "    state[1 << i] = 1\n",
    "state /= np.linalg.norm(state)\n",
    "\n",
    "dens_mat = np.outer(state, state.conj())\n",
    "dens_mat = (\n",
    "    DEPOLARISATION * (1 / dim) * np.eye(dim) + (1 - DEPOLARISATION) * dens_mat\n",
    ")\n",
    "purity = np.abs(np.trace(dens_mat @ dens_mat))\n",
    "\n",
    "print(f\"purity = {purity}\")"
   ]
  },
  {
   "cell_type": "markdown",
   "metadata": {},
   "source": [
    "We'll now calculate the reduced density matrices of the sliding windows of qubits. Experimentally, these would be determined via multiple Pauli product measurements."
   ]
  },
  {
   "cell_type": "code",
   "execution_count": 3,
   "metadata": {},
   "outputs": [],
   "source": [
    "def reduce(qubit):\n",
    "    left_size = 2 ** qubit\n",
    "    reduced_size = 2 ** K\n",
    "    right_size = np.size(dens_mat, axis=0) // (left_size * reduced_size)\n",
    "\n",
    "    reshaped = np.reshape(\n",
    "        dens_mat,\n",
    "        (left_size, reduced_size, right_size, left_size, reduced_size, right_size),\n",
    "    )\n",
    "\n",
    "    return np.einsum(\"aibajb->ij\", reshaped)\n",
    "\n",
    "sigmas = (reduce(q) for q in range(NUM_QUBITS - K + 1))"
   ]
  },
  {
   "cell_type": "markdown",
   "metadata": {},
   "source": [
    "We now perform the iterative process to give a best matrix product state estimate:"
   ]
  },
  {
   "cell_type": "code",
   "execution_count": 4,
   "metadata": {},
   "outputs": [],
   "source": [
    "from mps_tomo.uncert import iteration\n",
    "\n",
    "y_vec = iteration(K, sigmas, NUM_QUBITS, max_its=100, delta=0.1)\n",
    "y_dens = np.outer(y_vec, y_vec.conj())"
   ]
  },
  {
   "cell_type": "markdown",
   "metadata": {},
   "source": [
    "We can now see the overlap with the original W-state, and the fidelity with its depolarised density matrix."
   ]
  },
  {
   "cell_type": "code",
   "execution_count": 5,
   "metadata": {},
   "outputs": [
    {
     "name": "stdout",
     "output_type": "stream",
     "text": [
      "overlap = 0.9999930242779583\n",
      "fidelity = 0.9031187286941512\n"
     ]
    }
   ],
   "source": [
    "from mps_tomo.utils import fidelity\n",
    "\n",
    "overlap = np.abs(state.conj() @ y_vec) ** 2\n",
    "fid = fidelity(y_dens, dens_mat)\n",
    "\n",
    "print(f\"overlap = {overlap}\")\n",
    "print(f\"fidelity = {fid}\")"
   ]
  }
 ],
 "metadata": {
  "kernelspec": {
   "display_name": "Python 3",
   "language": "python",
   "name": "python3"
  },
  "language_info": {
   "codemirror_mode": {
    "name": "ipython",
    "version": 3
   },
   "file_extension": ".py",
   "mimetype": "text/x-python",
   "name": "python",
   "nbconvert_exporter": "python",
   "pygments_lexer": "ipython3",
   "version": "3.7.5"
  }
 },
 "nbformat": 4,
 "nbformat_minor": 2
}
